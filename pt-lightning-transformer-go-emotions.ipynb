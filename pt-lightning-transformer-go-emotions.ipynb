{
 "cells": [
  {
   "cell_type": "markdown",
   "id": "880481fb-dba0-4c00-b6fe-1a9d0de135d1",
   "metadata": {},
   "source": [
    "# Multi-label text classification - Pytorch Lightning and Transformers\n",
    "\n",
    "1. Data Acquisition and Data Cleaning\n",
    "2. Build PyTorch Dataset\n",
    "3. Build PyTorch-Lightning DataModule\n",
    "4. Build PyTorch-Lightning Classifier using Transformers\n",
    "5. Finetune (Train) the model\n",
    "6. Test/Evaluate the model"
   ]
  },
  {
   "cell_type": "code",
   "execution_count": 290,
   "id": "64491485-c852-4969-8e36-6fd416a609c8",
   "metadata": {},
   "outputs": [],
   "source": [
    "import os\n",
    "import pandas as pd\n",
    "from pathlib import Path\n",
    "import matplotlib.pyplot as plt\n",
    "from sklearn.model_selection import train_test_split\n",
    "import torch\n",
    "from torch.utils.data import DataLoader, Dataset\n",
    "from torch import nn\n",
    "import pytorch_lightning as pl\n",
    "from transformers import ElectraTokenizerFast, ElectraForSequenceClassification, AdamW"
   ]
  },
  {
   "cell_type": "code",
   "execution_count": 289,
   "id": "576fc6d6-3004-4a81-ba14-e50e586ed962",
   "metadata": {},
   "outputs": [
    {
     "name": "stderr",
     "output_type": "stream",
     "text": [
      "Global seed set to 42\n"
     ]
    }
   ],
   "source": [
    "# random seed for re-producibility\n",
    "pl.seed_everything(42)\n",
    "# pre-trained model\n",
    "MODEL_NAME = 'google/electra-small-discriminator'\n",
    "# model parameters kept in config dict\n",
    "config = {}"
   ]
  },
  {
   "cell_type": "markdown",
   "id": "16d2d9d5-fcb7-4834-ae3e-61579a622f3d",
   "metadata": {},
   "source": [
    "## Data Acquisition and Data Cleaning"
   ]
  },
  {
   "cell_type": "markdown",
   "id": "ca717c22-187c-4f7b-b34c-859c40b0cfa9",
   "metadata": {},
   "source": [
    "> Read data-files into pandas dataframe "
   ]
  },
  {
   "cell_type": "code",
   "execution_count": 233,
   "id": "9c1f4ac2-5060-4967-a6be-32214d6d57c0",
   "metadata": {},
   "outputs": [
    {
     "data": {
      "text/html": [
       "<div>\n",
       "<style scoped>\n",
       "    .dataframe tbody tr th:only-of-type {\n",
       "        vertical-align: middle;\n",
       "    }\n",
       "\n",
       "    .dataframe tbody tr th {\n",
       "        vertical-align: top;\n",
       "    }\n",
       "\n",
       "    .dataframe thead th {\n",
       "        text-align: right;\n",
       "    }\n",
       "</style>\n",
       "<table border=\"1\" class=\"dataframe\">\n",
       "  <thead>\n",
       "    <tr style=\"text-align: right;\">\n",
       "      <th></th>\n",
       "      <th>text</th>\n",
       "      <th>id</th>\n",
       "      <th>author</th>\n",
       "      <th>subreddit</th>\n",
       "      <th>link_id</th>\n",
       "      <th>parent_id</th>\n",
       "      <th>created_utc</th>\n",
       "      <th>rater_id</th>\n",
       "      <th>example_very_unclear</th>\n",
       "      <th>admiration</th>\n",
       "      <th>...</th>\n",
       "      <th>love</th>\n",
       "      <th>nervousness</th>\n",
       "      <th>optimism</th>\n",
       "      <th>pride</th>\n",
       "      <th>realization</th>\n",
       "      <th>relief</th>\n",
       "      <th>remorse</th>\n",
       "      <th>sadness</th>\n",
       "      <th>surprise</th>\n",
       "      <th>neutral</th>\n",
       "    </tr>\n",
       "  </thead>\n",
       "  <tbody>\n",
       "    <tr>\n",
       "      <th>0</th>\n",
       "      <td>We can hope</td>\n",
       "      <td>ee3o3ko</td>\n",
       "      <td>darkenseyreth</td>\n",
       "      <td>EdmontonOilers</td>\n",
       "      <td>t3_ag4r9j</td>\n",
       "      <td>t1_ee3mhad</td>\n",
       "      <td>1.547529e+09</td>\n",
       "      <td>62</td>\n",
       "      <td>False</td>\n",
       "      <td>0</td>\n",
       "      <td>...</td>\n",
       "      <td>0</td>\n",
       "      <td>0</td>\n",
       "      <td>1</td>\n",
       "      <td>0</td>\n",
       "      <td>0</td>\n",
       "      <td>0</td>\n",
       "      <td>0</td>\n",
       "      <td>0</td>\n",
       "      <td>0</td>\n",
       "      <td>0</td>\n",
       "    </tr>\n",
       "    <tr>\n",
       "      <th>1</th>\n",
       "      <td>Shhh don't give them the idea!</td>\n",
       "      <td>eebl3z7</td>\n",
       "      <td>BoinkBoinkEtAliae</td>\n",
       "      <td>MurderedByWords</td>\n",
       "      <td>t3_ah3o76</td>\n",
       "      <td>t1_eeb68lo</td>\n",
       "      <td>1.547777e+09</td>\n",
       "      <td>76</td>\n",
       "      <td>False</td>\n",
       "      <td>0</td>\n",
       "      <td>...</td>\n",
       "      <td>0</td>\n",
       "      <td>0</td>\n",
       "      <td>0</td>\n",
       "      <td>0</td>\n",
       "      <td>0</td>\n",
       "      <td>0</td>\n",
       "      <td>0</td>\n",
       "      <td>0</td>\n",
       "      <td>0</td>\n",
       "      <td>0</td>\n",
       "    </tr>\n",
       "    <tr>\n",
       "      <th>2</th>\n",
       "      <td>Thank you so much, kind stranger. I really nee...</td>\n",
       "      <td>ed4fe9l</td>\n",
       "      <td>savageleaf</td>\n",
       "      <td>raisedbynarcissists</td>\n",
       "      <td>t3_abwh00</td>\n",
       "      <td>t1_ed4etbj</td>\n",
       "      <td>1.546482e+09</td>\n",
       "      <td>24</td>\n",
       "      <td>False</td>\n",
       "      <td>0</td>\n",
       "      <td>...</td>\n",
       "      <td>0</td>\n",
       "      <td>0</td>\n",
       "      <td>0</td>\n",
       "      <td>0</td>\n",
       "      <td>0</td>\n",
       "      <td>0</td>\n",
       "      <td>0</td>\n",
       "      <td>0</td>\n",
       "      <td>0</td>\n",
       "      <td>0</td>\n",
       "    </tr>\n",
       "    <tr>\n",
       "      <th>3</th>\n",
       "      <td>Ion know but it would be better for you to jus...</td>\n",
       "      <td>efavtdu</td>\n",
       "      <td>CADDiLLXC</td>\n",
       "      <td>darknet</td>\n",
       "      <td>t3_al4njw</td>\n",
       "      <td>t3_al4njw</td>\n",
       "      <td>1.548800e+09</td>\n",
       "      <td>62</td>\n",
       "      <td>False</td>\n",
       "      <td>0</td>\n",
       "      <td>...</td>\n",
       "      <td>0</td>\n",
       "      <td>0</td>\n",
       "      <td>0</td>\n",
       "      <td>0</td>\n",
       "      <td>0</td>\n",
       "      <td>0</td>\n",
       "      <td>0</td>\n",
       "      <td>0</td>\n",
       "      <td>0</td>\n",
       "      <td>1</td>\n",
       "    </tr>\n",
       "    <tr>\n",
       "      <th>4</th>\n",
       "      <td>I'm honestly surprised. We should have fallen ...</td>\n",
       "      <td>ee2imz2</td>\n",
       "      <td>CorporalThornberry</td>\n",
       "      <td>CollegeBasketball</td>\n",
       "      <td>t3_afxt6t</td>\n",
       "      <td>t1_ee22nyr</td>\n",
       "      <td>1.547497e+09</td>\n",
       "      <td>55</td>\n",
       "      <td>False</td>\n",
       "      <td>0</td>\n",
       "      <td>...</td>\n",
       "      <td>0</td>\n",
       "      <td>0</td>\n",
       "      <td>0</td>\n",
       "      <td>0</td>\n",
       "      <td>0</td>\n",
       "      <td>0</td>\n",
       "      <td>0</td>\n",
       "      <td>0</td>\n",
       "      <td>0</td>\n",
       "      <td>0</td>\n",
       "    </tr>\n",
       "  </tbody>\n",
       "</table>\n",
       "<p>5 rows × 37 columns</p>\n",
       "</div>"
      ],
      "text/plain": [
       "                                                text       id  \\\n",
       "0                                        We can hope  ee3o3ko   \n",
       "1                     Shhh don't give them the idea!  eebl3z7   \n",
       "2  Thank you so much, kind stranger. I really nee...  ed4fe9l   \n",
       "3  Ion know but it would be better for you to jus...  efavtdu   \n",
       "4  I'm honestly surprised. We should have fallen ...  ee2imz2   \n",
       "\n",
       "               author            subreddit    link_id   parent_id  \\\n",
       "0       darkenseyreth       EdmontonOilers  t3_ag4r9j  t1_ee3mhad   \n",
       "1   BoinkBoinkEtAliae      MurderedByWords  t3_ah3o76  t1_eeb68lo   \n",
       "2          savageleaf  raisedbynarcissists  t3_abwh00  t1_ed4etbj   \n",
       "3           CADDiLLXC              darknet  t3_al4njw   t3_al4njw   \n",
       "4  CorporalThornberry    CollegeBasketball  t3_afxt6t  t1_ee22nyr   \n",
       "\n",
       "    created_utc  rater_id  example_very_unclear  admiration  ...  love  \\\n",
       "0  1.547529e+09        62                 False           0  ...     0   \n",
       "1  1.547777e+09        76                 False           0  ...     0   \n",
       "2  1.546482e+09        24                 False           0  ...     0   \n",
       "3  1.548800e+09        62                 False           0  ...     0   \n",
       "4  1.547497e+09        55                 False           0  ...     0   \n",
       "\n",
       "   nervousness  optimism  pride  realization  relief  remorse  sadness  \\\n",
       "0            0         1      0            0       0        0        0   \n",
       "1            0         0      0            0       0        0        0   \n",
       "2            0         0      0            0       0        0        0   \n",
       "3            0         0      0            0       0        0        0   \n",
       "4            0         0      0            0       0        0        0   \n",
       "\n",
       "   surprise  neutral  \n",
       "0         0        0  \n",
       "1         0        0  \n",
       "2         0        0  \n",
       "3         0        1  \n",
       "4         0        0  \n",
       "\n",
       "[5 rows x 37 columns]"
      ]
     },
     "execution_count": 233,
     "metadata": {},
     "output_type": "execute_result"
    }
   ],
   "source": [
    "# read data in dataframes\n",
    "dfs = []\n",
    "for data_file in list(Path().glob('data/*.csv')):\n",
    "    dfs.append(pd.read_csv(data_file))\n",
    "# concatenate dataframes\n",
    "emotions_df = pd.concat(dfs)\n",
    "emotions_df.head()"
   ]
  },
  {
   "cell_type": "code",
   "execution_count": 234,
   "id": "fccdfcda-7782-476d-bbde-425bae2fa0d5",
   "metadata": {},
   "outputs": [
    {
     "name": "stdout",
     "output_type": "stream",
     "text": [
      "<class 'pandas.core.frame.DataFrame'>\n",
      "Int64Index: 211225 entries, 0 to 69999\n",
      "Data columns (total 37 columns):\n",
      " #   Column                Non-Null Count   Dtype  \n",
      "---  ------                --------------   -----  \n",
      " 0   text                  211225 non-null  object \n",
      " 1   id                    211225 non-null  object \n",
      " 2   author                211225 non-null  object \n",
      " 3   subreddit             211225 non-null  object \n",
      " 4   link_id               211225 non-null  object \n",
      " 5   parent_id             211225 non-null  object \n",
      " 6   created_utc           211225 non-null  float64\n",
      " 7   rater_id              211225 non-null  int64  \n",
      " 8   example_very_unclear  211225 non-null  bool   \n",
      " 9   admiration            211225 non-null  int64  \n",
      " 10  amusement             211225 non-null  int64  \n",
      " 11  anger                 211225 non-null  int64  \n",
      " 12  annoyance             211225 non-null  int64  \n",
      " 13  approval              211225 non-null  int64  \n",
      " 14  caring                211225 non-null  int64  \n",
      " 15  confusion             211225 non-null  int64  \n",
      " 16  curiosity             211225 non-null  int64  \n",
      " 17  desire                211225 non-null  int64  \n",
      " 18  disappointment        211225 non-null  int64  \n",
      " 19  disapproval           211225 non-null  int64  \n",
      " 20  disgust               211225 non-null  int64  \n",
      " 21  embarrassment         211225 non-null  int64  \n",
      " 22  excitement            211225 non-null  int64  \n",
      " 23  fear                  211225 non-null  int64  \n",
      " 24  gratitude             211225 non-null  int64  \n",
      " 25  grief                 211225 non-null  int64  \n",
      " 26  joy                   211225 non-null  int64  \n",
      " 27  love                  211225 non-null  int64  \n",
      " 28  nervousness           211225 non-null  int64  \n",
      " 29  optimism              211225 non-null  int64  \n",
      " 30  pride                 211225 non-null  int64  \n",
      " 31  realization           211225 non-null  int64  \n",
      " 32  relief                211225 non-null  int64  \n",
      " 33  remorse               211225 non-null  int64  \n",
      " 34  sadness               211225 non-null  int64  \n",
      " 35  surprise              211225 non-null  int64  \n",
      " 36  neutral               211225 non-null  int64  \n",
      "dtypes: bool(1), float64(1), int64(29), object(6)\n",
      "memory usage: 59.8+ MB\n"
     ]
    }
   ],
   "source": [
    "# inspect dataframe\n",
    "emotions_df.info()"
   ]
  },
  {
   "cell_type": "code",
   "execution_count": 235,
   "id": "10b5957d-a5f0-4ed9-a11f-890176f9d6d7",
   "metadata": {},
   "outputs": [
    {
     "data": {
      "text/plain": [
       "['admiration',\n",
       " 'amusement',\n",
       " 'anger',\n",
       " 'annoyance',\n",
       " 'approval',\n",
       " 'caring',\n",
       " 'confusion',\n",
       " 'curiosity',\n",
       " 'desire',\n",
       " 'disappointment',\n",
       " 'disapproval',\n",
       " 'disgust',\n",
       " 'embarrassment',\n",
       " 'excitement',\n",
       " 'fear',\n",
       " 'gratitude',\n",
       " 'grief',\n",
       " 'joy',\n",
       " 'love',\n",
       " 'nervousness',\n",
       " 'optimism',\n",
       " 'pride',\n",
       " 'realization',\n",
       " 'relief',\n",
       " 'remorse',\n",
       " 'sadness',\n",
       " 'surprise',\n",
       " 'neutral']"
      ]
     },
     "execution_count": 235,
     "metadata": {},
     "output_type": "execute_result"
    }
   ],
   "source": [
    "# out of 37 cols from 10 till 37 are the emotion labels 27 of them\n",
    "all_labels = list(emotions_df.columns[9:])\n",
    "all_labels"
   ]
  },
  {
   "cell_type": "code",
   "execution_count": 236,
   "id": "1c3ebd52-b574-4297-9a47-9d302f54c7e7",
   "metadata": {},
   "outputs": [
    {
     "data": {
      "text/plain": [
       "58011"
      ]
     },
     "execution_count": 236,
     "metadata": {},
     "output_type": "execute_result"
    }
   ],
   "source": [
    "# there seems to be over 200k rows, lets check how many unique text items are there\n",
    "len(emotions_df['id'].unique())"
   ]
  },
  {
   "cell_type": "code",
   "execution_count": 237,
   "id": "639b0d0f-bee2-4a16-b008-0e2ce1696d39",
   "metadata": {},
   "outputs": [
    {
     "data": {
      "text/html": [
       "<div>\n",
       "<style scoped>\n",
       "    .dataframe tbody tr th:only-of-type {\n",
       "        vertical-align: middle;\n",
       "    }\n",
       "\n",
       "    .dataframe tbody tr th {\n",
       "        vertical-align: top;\n",
       "    }\n",
       "\n",
       "    .dataframe thead th {\n",
       "        text-align: right;\n",
       "    }\n",
       "</style>\n",
       "<table border=\"1\" class=\"dataframe\">\n",
       "  <thead>\n",
       "    <tr style=\"text-align: right;\">\n",
       "      <th></th>\n",
       "      <th>text</th>\n",
       "      <th>id</th>\n",
       "      <th>author</th>\n",
       "      <th>subreddit</th>\n",
       "      <th>link_id</th>\n",
       "      <th>parent_id</th>\n",
       "      <th>created_utc</th>\n",
       "      <th>rater_id</th>\n",
       "      <th>example_very_unclear</th>\n",
       "      <th>admiration</th>\n",
       "      <th>...</th>\n",
       "      <th>love</th>\n",
       "      <th>nervousness</th>\n",
       "      <th>optimism</th>\n",
       "      <th>pride</th>\n",
       "      <th>realization</th>\n",
       "      <th>relief</th>\n",
       "      <th>remorse</th>\n",
       "      <th>sadness</th>\n",
       "      <th>surprise</th>\n",
       "      <th>neutral</th>\n",
       "    </tr>\n",
       "  </thead>\n",
       "  <tbody>\n",
       "    <tr>\n",
       "      <th>1</th>\n",
       "      <td>Shhh don't give them the idea!</td>\n",
       "      <td>eebl3z7</td>\n",
       "      <td>BoinkBoinkEtAliae</td>\n",
       "      <td>MurderedByWords</td>\n",
       "      <td>t3_ah3o76</td>\n",
       "      <td>t1_eeb68lo</td>\n",
       "      <td>1.547777e+09</td>\n",
       "      <td>76</td>\n",
       "      <td>False</td>\n",
       "      <td>0</td>\n",
       "      <td>...</td>\n",
       "      <td>0</td>\n",
       "      <td>0</td>\n",
       "      <td>0</td>\n",
       "      <td>0</td>\n",
       "      <td>0</td>\n",
       "      <td>0</td>\n",
       "      <td>0</td>\n",
       "      <td>0</td>\n",
       "      <td>0</td>\n",
       "      <td>0</td>\n",
       "    </tr>\n",
       "    <tr>\n",
       "      <th>32416</th>\n",
       "      <td>Shhh don't give them the idea!</td>\n",
       "      <td>eebl3z7</td>\n",
       "      <td>BoinkBoinkEtAliae</td>\n",
       "      <td>MurderedByWords</td>\n",
       "      <td>t3_ah3o76</td>\n",
       "      <td>t1_eeb68lo</td>\n",
       "      <td>1.547777e+09</td>\n",
       "      <td>70</td>\n",
       "      <td>False</td>\n",
       "      <td>0</td>\n",
       "      <td>...</td>\n",
       "      <td>0</td>\n",
       "      <td>0</td>\n",
       "      <td>0</td>\n",
       "      <td>0</td>\n",
       "      <td>0</td>\n",
       "      <td>0</td>\n",
       "      <td>0</td>\n",
       "      <td>0</td>\n",
       "      <td>0</td>\n",
       "      <td>0</td>\n",
       "    </tr>\n",
       "    <tr>\n",
       "      <th>38752</th>\n",
       "      <td>Shhh don't give them the idea!</td>\n",
       "      <td>eebl3z7</td>\n",
       "      <td>BoinkBoinkEtAliae</td>\n",
       "      <td>MurderedByWords</td>\n",
       "      <td>t3_ah3o76</td>\n",
       "      <td>t1_eeb68lo</td>\n",
       "      <td>1.547777e+09</td>\n",
       "      <td>3</td>\n",
       "      <td>False</td>\n",
       "      <td>0</td>\n",
       "      <td>...</td>\n",
       "      <td>0</td>\n",
       "      <td>0</td>\n",
       "      <td>0</td>\n",
       "      <td>0</td>\n",
       "      <td>1</td>\n",
       "      <td>0</td>\n",
       "      <td>0</td>\n",
       "      <td>0</td>\n",
       "      <td>0</td>\n",
       "      <td>0</td>\n",
       "    </tr>\n",
       "  </tbody>\n",
       "</table>\n",
       "<p>3 rows × 37 columns</p>\n",
       "</div>"
      ],
      "text/plain": [
       "                                 text       id             author  \\\n",
       "1      Shhh don't give them the idea!  eebl3z7  BoinkBoinkEtAliae   \n",
       "32416  Shhh don't give them the idea!  eebl3z7  BoinkBoinkEtAliae   \n",
       "38752  Shhh don't give them the idea!  eebl3z7  BoinkBoinkEtAliae   \n",
       "\n",
       "             subreddit    link_id   parent_id   created_utc  rater_id  \\\n",
       "1      MurderedByWords  t3_ah3o76  t1_eeb68lo  1.547777e+09        76   \n",
       "32416  MurderedByWords  t3_ah3o76  t1_eeb68lo  1.547777e+09        70   \n",
       "38752  MurderedByWords  t3_ah3o76  t1_eeb68lo  1.547777e+09         3   \n",
       "\n",
       "       example_very_unclear  admiration  ...  love  nervousness  optimism  \\\n",
       "1                     False           0  ...     0            0         0   \n",
       "32416                 False           0  ...     0            0         0   \n",
       "38752                 False           0  ...     0            0         0   \n",
       "\n",
       "       pride  realization  relief  remorse  sadness  surprise  neutral  \n",
       "1          0            0       0        0        0         0        0  \n",
       "32416      0            0       0        0        0         0        0  \n",
       "38752      0            1       0        0        0         0        0  \n",
       "\n",
       "[3 rows x 37 columns]"
      ]
     },
     "execution_count": 237,
     "metadata": {},
     "output_type": "execute_result"
    }
   ],
   "source": [
    "# Unique ids are less than the total number of rows which means we have multiple rows for single id\n",
    "# lets check one sample\n",
    "emotions_df[emotions_df.id == \"eebl3z7\"]"
   ]
  },
  {
   "cell_type": "markdown",
   "id": "4fe12891-feb5-44c2-8522-c240dc701192",
   "metadata": {},
   "source": [
    "> rater-id is different which means same text is rated by three different people and they might provide differnt emotions for same text. we'll keep only one row for each unique text id.For this we'll sum-up each emotion for given text id and assign it emotion with largest count.  \n",
    "For example, for this id the majority label is 'anger' "
   ]
  },
  {
   "cell_type": "code",
   "execution_count": 238,
   "id": "1c4b9817-4dc7-4c55-a83e-0501b422d8d1",
   "metadata": {},
   "outputs": [
    {
     "data": {
      "text/plain": [
       "'anger'"
      ]
     },
     "execution_count": 238,
     "metadata": {},
     "output_type": "execute_result"
    }
   ],
   "source": [
    "# idxmax retuens the 'index' with maximum value for a given axis\n",
    "# axis=1 means we want to get the column with maximum value for each row\n",
    "emotions_df[emotions_df.id == \"eebl3z7\"][labels].sum().idxmax(axis=1) "
   ]
  },
  {
   "cell_type": "markdown",
   "id": "909482cc-213e-493f-a55f-757d9725fad6",
   "metadata": {},
   "source": [
    "> Lets do this for for whole dataset. At the end we want a dataframe with unique text and associated majority label"
   ]
  },
  {
   "cell_type": "code",
   "execution_count": 239,
   "id": "470a887d-59ff-4ad3-baf7-ff6c87c7b610",
   "metadata": {},
   "outputs": [
    {
     "data": {
      "text/html": [
       "<div>\n",
       "<style scoped>\n",
       "    .dataframe tbody tr th:only-of-type {\n",
       "        vertical-align: middle;\n",
       "    }\n",
       "\n",
       "    .dataframe tbody tr th {\n",
       "        vertical-align: top;\n",
       "    }\n",
       "\n",
       "    .dataframe thead th {\n",
       "        text-align: right;\n",
       "    }\n",
       "</style>\n",
       "<table border=\"1\" class=\"dataframe\">\n",
       "  <thead>\n",
       "    <tr style=\"text-align: right;\">\n",
       "      <th></th>\n",
       "      <th>emotion</th>\n",
       "      <th>label</th>\n",
       "    </tr>\n",
       "    <tr>\n",
       "      <th>id</th>\n",
       "      <th></th>\n",
       "      <th></th>\n",
       "    </tr>\n",
       "  </thead>\n",
       "  <tbody>\n",
       "    <tr>\n",
       "      <th>eczazk6</th>\n",
       "      <td>approval</td>\n",
       "      <td>4</td>\n",
       "    </tr>\n",
       "    <tr>\n",
       "      <th>eczb07q</th>\n",
       "      <td>neutral</td>\n",
       "      <td>27</td>\n",
       "    </tr>\n",
       "    <tr>\n",
       "      <th>eczb4bm</th>\n",
       "      <td>disappointment</td>\n",
       "      <td>9</td>\n",
       "    </tr>\n",
       "    <tr>\n",
       "      <th>eczb527</th>\n",
       "      <td>curiosity</td>\n",
       "      <td>7</td>\n",
       "    </tr>\n",
       "    <tr>\n",
       "      <th>eczb6r7</th>\n",
       "      <td>neutral</td>\n",
       "      <td>27</td>\n",
       "    </tr>\n",
       "    <tr>\n",
       "      <th>...</th>\n",
       "      <td>...</td>\n",
       "      <td>...</td>\n",
       "    </tr>\n",
       "    <tr>\n",
       "      <th>efhclgb</th>\n",
       "      <td>confusion</td>\n",
       "      <td>6</td>\n",
       "    </tr>\n",
       "    <tr>\n",
       "      <th>efhcm78</th>\n",
       "      <td>annoyance</td>\n",
       "      <td>3</td>\n",
       "    </tr>\n",
       "    <tr>\n",
       "      <th>efhcnhz</th>\n",
       "      <td>neutral</td>\n",
       "      <td>27</td>\n",
       "    </tr>\n",
       "    <tr>\n",
       "      <th>efhcreo</th>\n",
       "      <td>admiration</td>\n",
       "      <td>0</td>\n",
       "    </tr>\n",
       "    <tr>\n",
       "      <th>efhcuxi</th>\n",
       "      <td>neutral</td>\n",
       "      <td>27</td>\n",
       "    </tr>\n",
       "  </tbody>\n",
       "</table>\n",
       "<p>58011 rows × 2 columns</p>\n",
       "</div>"
      ],
      "text/plain": [
       "                emotion  label\n",
       "id                            \n",
       "eczazk6        approval      4\n",
       "eczb07q         neutral     27\n",
       "eczb4bm  disappointment      9\n",
       "eczb527       curiosity      7\n",
       "eczb6r7         neutral     27\n",
       "...                 ...    ...\n",
       "efhclgb       confusion      6\n",
       "efhcm78       annoyance      3\n",
       "efhcnhz         neutral     27\n",
       "efhcreo      admiration      0\n",
       "efhcuxi         neutral     27\n",
       "\n",
       "[58011 rows x 2 columns]"
      ]
     },
     "execution_count": 239,
     "metadata": {},
     "output_type": "execute_result"
    }
   ],
   "source": [
    "# get majority label (column with largest value) for each 'id'\n",
    "labels_sr = emotions_df.groupby('id').sum()[labels].idxmax(axis=1)\n",
    "labels_df = pd.DataFrame(labels_sr, columns=['emotion'])\n",
    "# create a target numeric column 'label' corresponding to the emotion index\n",
    "labels_df['label'] = labels_df['emotion'].apply(lambda x: all_labels.index(x))\n",
    "labels_df"
   ]
  },
  {
   "cell_type": "code",
   "execution_count": 240,
   "id": "e96d86ed-0b39-4c5c-b18e-245290c585fb",
   "metadata": {},
   "outputs": [
    {
     "data": {
      "text/html": [
       "<div>\n",
       "<style scoped>\n",
       "    .dataframe tbody tr th:only-of-type {\n",
       "        vertical-align: middle;\n",
       "    }\n",
       "\n",
       "    .dataframe tbody tr th {\n",
       "        vertical-align: top;\n",
       "    }\n",
       "\n",
       "    .dataframe thead th {\n",
       "        text-align: right;\n",
       "    }\n",
       "</style>\n",
       "<table border=\"1\" class=\"dataframe\">\n",
       "  <thead>\n",
       "    <tr style=\"text-align: right;\">\n",
       "      <th></th>\n",
       "      <th>text</th>\n",
       "    </tr>\n",
       "    <tr>\n",
       "      <th>id</th>\n",
       "      <th></th>\n",
       "    </tr>\n",
       "  </thead>\n",
       "  <tbody>\n",
       "    <tr>\n",
       "      <th>eczazk6</th>\n",
       "      <td>Fast as [NAME] will carry me. Seriously uptown...</td>\n",
       "    </tr>\n",
       "    <tr>\n",
       "      <th>eczb07q</th>\n",
       "      <td>You blew it. They played you like a fiddle.</td>\n",
       "    </tr>\n",
       "    <tr>\n",
       "      <th>eczb4bm</th>\n",
       "      <td>TL;DR No more Superbowls for [NAME]. Get ready...</td>\n",
       "    </tr>\n",
       "    <tr>\n",
       "      <th>eczb527</th>\n",
       "      <td>So much time saved. Not.</td>\n",
       "    </tr>\n",
       "    <tr>\n",
       "      <th>eczb6r7</th>\n",
       "      <td>Emotes have a ridiculous amount of effort put ...</td>\n",
       "    </tr>\n",
       "    <tr>\n",
       "      <th>...</th>\n",
       "      <td>...</td>\n",
       "    </tr>\n",
       "    <tr>\n",
       "      <th>efhclgb</th>\n",
       "      <td>[NAME]. I’m not sure you’ll feel the same way ...</td>\n",
       "    </tr>\n",
       "    <tr>\n",
       "      <th>efhcm78</th>\n",
       "      <td>I can see why! I would totally be offended too!</td>\n",
       "    </tr>\n",
       "    <tr>\n",
       "      <th>efhcnhz</th>\n",
       "      <td>Approaching doesn't work unless you are [NAME]...</td>\n",
       "    </tr>\n",
       "    <tr>\n",
       "      <th>efhcreo</th>\n",
       "      <td>Hahaha perfect.</td>\n",
       "    </tr>\n",
       "    <tr>\n",
       "      <th>efhcuxi</th>\n",
       "      <td>Ok now that was epic!</td>\n",
       "    </tr>\n",
       "  </tbody>\n",
       "</table>\n",
       "<p>58011 rows × 1 columns</p>\n",
       "</div>"
      ],
      "text/plain": [
       "                                                      text\n",
       "id                                                        \n",
       "eczazk6  Fast as [NAME] will carry me. Seriously uptown...\n",
       "eczb07q        You blew it. They played you like a fiddle.\n",
       "eczb4bm  TL;DR No more Superbowls for [NAME]. Get ready...\n",
       "eczb527                           So much time saved. Not.\n",
       "eczb6r7  Emotes have a ridiculous amount of effort put ...\n",
       "...                                                    ...\n",
       "efhclgb  [NAME]. I’m not sure you’ll feel the same way ...\n",
       "efhcm78    I can see why! I would totally be offended too!\n",
       "efhcnhz  Approaching doesn't work unless you are [NAME]...\n",
       "efhcreo                                    Hahaha perfect.\n",
       "efhcuxi                              Ok now that was epic!\n",
       "\n",
       "[58011 rows x 1 columns]"
      ]
     },
     "execution_count": 240,
     "metadata": {},
     "output_type": "execute_result"
    }
   ],
   "source": [
    "# extract the unique ids and associted text from data\n",
    "# median is used here just to get a data-frame out from groupby object (this is something I don't understand in pandas vs SQL)\n",
    "# the reset_index is used to make `id` and `text` and clolumns and not index so that we can extract them, groupby makes columns used \n",
    "# to group as index\n",
    "emotions_df = emotions_df.groupby(['id', 'text']).median().reset_index()[['id', 'text']]\n",
    "# setting id as index \n",
    "emotions_df.set_index('id', inplace=True)\n",
    "emotions_df"
   ]
  },
  {
   "cell_type": "code",
   "execution_count": 241,
   "id": "515266cb-75ad-4c0f-898b-09e9634aa1a8",
   "metadata": {},
   "outputs": [
    {
     "data": {
      "text/html": [
       "<div>\n",
       "<style scoped>\n",
       "    .dataframe tbody tr th:only-of-type {\n",
       "        vertical-align: middle;\n",
       "    }\n",
       "\n",
       "    .dataframe tbody tr th {\n",
       "        vertical-align: top;\n",
       "    }\n",
       "\n",
       "    .dataframe thead th {\n",
       "        text-align: right;\n",
       "    }\n",
       "</style>\n",
       "<table border=\"1\" class=\"dataframe\">\n",
       "  <thead>\n",
       "    <tr style=\"text-align: right;\">\n",
       "      <th></th>\n",
       "      <th>text</th>\n",
       "      <th>emotion</th>\n",
       "      <th>label</th>\n",
       "    </tr>\n",
       "    <tr>\n",
       "      <th>id</th>\n",
       "      <th></th>\n",
       "      <th></th>\n",
       "      <th></th>\n",
       "    </tr>\n",
       "  </thead>\n",
       "  <tbody>\n",
       "    <tr>\n",
       "      <th>eczazk6</th>\n",
       "      <td>Fast as [NAME] will carry me. Seriously uptown...</td>\n",
       "      <td>approval</td>\n",
       "      <td>4</td>\n",
       "    </tr>\n",
       "    <tr>\n",
       "      <th>eczb07q</th>\n",
       "      <td>You blew it. They played you like a fiddle.</td>\n",
       "      <td>neutral</td>\n",
       "      <td>27</td>\n",
       "    </tr>\n",
       "    <tr>\n",
       "      <th>eczb4bm</th>\n",
       "      <td>TL;DR No more Superbowls for [NAME]. Get ready...</td>\n",
       "      <td>disappointment</td>\n",
       "      <td>9</td>\n",
       "    </tr>\n",
       "    <tr>\n",
       "      <th>eczb527</th>\n",
       "      <td>So much time saved. Not.</td>\n",
       "      <td>curiosity</td>\n",
       "      <td>7</td>\n",
       "    </tr>\n",
       "    <tr>\n",
       "      <th>eczb6r7</th>\n",
       "      <td>Emotes have a ridiculous amount of effort put ...</td>\n",
       "      <td>neutral</td>\n",
       "      <td>27</td>\n",
       "    </tr>\n",
       "  </tbody>\n",
       "</table>\n",
       "</div>"
      ],
      "text/plain": [
       "                                                      text         emotion  \\\n",
       "id                                                                           \n",
       "eczazk6  Fast as [NAME] will carry me. Seriously uptown...        approval   \n",
       "eczb07q        You blew it. They played you like a fiddle.         neutral   \n",
       "eczb4bm  TL;DR No more Superbowls for [NAME]. Get ready...  disappointment   \n",
       "eczb527                           So much time saved. Not.       curiosity   \n",
       "eczb6r7  Emotes have a ridiculous amount of effort put ...         neutral   \n",
       "\n",
       "         label  \n",
       "id              \n",
       "eczazk6      4  \n",
       "eczb07q     27  \n",
       "eczb4bm      9  \n",
       "eczb527      7  \n",
       "eczb6r7     27  "
      ]
     },
     "execution_count": 241,
     "metadata": {},
     "output_type": "execute_result"
    }
   ],
   "source": [
    "# now concatenate text and lables to get our dataset, could just use concat here\n",
    "# but using join will ensure that correct ids and text get their respective labels\n",
    "emotions_df = emotions_df.join(labels_df, how='left')\n",
    "emotions_df.head()"
   ]
  },
  {
   "cell_type": "markdown",
   "id": "c17d4103-af1a-47d8-93ff-80501d52832b",
   "metadata": {},
   "source": [
    "plot the label distribution"
   ]
  },
  {
   "cell_type": "code",
   "execution_count": 242,
   "id": "10414a66-7cef-4f15-88f2-ee9ca38497ed",
   "metadata": {},
   "outputs": [
    {
     "name": "stdout",
     "output_type": "stream",
     "text": [
      "neutral           16254\n",
      "admiration         5387\n",
      "approval           3749\n",
      "annoyance          3476\n",
      "gratitude          3031\n",
      "amusement          2973\n",
      "anger              2353\n",
      "curiosity          2291\n",
      "disapproval        2199\n",
      "love               2048\n",
      "confusion          1607\n",
      "disappointment     1359\n",
      "caring             1317\n",
      "optimism           1315\n",
      "joy                1308\n",
      "sadness            1163\n",
      "surprise           1005\n",
      "realization         916\n",
      "excitement          850\n",
      "disgust             779\n",
      "desire              694\n",
      "fear                674\n",
      "remorse             523\n",
      "embarrassment       316\n",
      "nervousness         140\n",
      "relief              117\n",
      "pride                86\n",
      "grief                81\n",
      "Name: emotion, dtype: int64\n",
      "\n"
     ]
    },
    {
     "data": {
      "image/png": "[encoded data removed]",
      "text/plain": [
       "<Figure size 864x720 with 1 Axes>"
      ]
     },
     "metadata": {
      "needs_background": "light"
     },
     "output_type": "display_data"
    }
   ],
   "source": [
    "print(emotions_df['emotion'].value_counts())\n",
    "print()\n",
    "emotions_df['emotion'].value_counts().plot(kind='barh', figsize=(12, 10), title='Class Distribution', xlabel='Emotions')\n",
    "plt.show()"
   ]
  },
  {
   "cell_type": "markdown",
   "id": "806dd513-01b5-4e4e-95fd-ca0e7cdf125c",
   "metadata": {},
   "source": [
    "sequnce models requires fixed length inputs. Lets  find out the approx maximum text length i.e. number of token"
   ]
  },
  {
   "cell_type": "code",
   "execution_count": 243,
   "id": "cd72b60d-bda6-4e0f-b562-bfe560b5f169",
   "metadata": {},
   "outputs": [],
   "source": [
    "# downloand the tokennizer\n",
    "tokenizer = ElectraTokenizerFast.from_pretrained(MODEL_NAME)"
   ]
  },
  {
   "cell_type": "code",
   "execution_count": 244,
   "id": "0a7987ae-4810-41cf-b1aa-065941721dc3",
   "metadata": {},
   "outputs": [],
   "source": [
    "# tokenize the text\n",
    "token_dict = tokenizer(emotions_df['text'].tolist())"
   ]
  },
  {
   "cell_type": "code",
   "execution_count": 245,
   "id": "85af7394-f91b-417d-8f79-2cc99b0ce3dd",
   "metadata": {},
   "outputs": [
    {
     "name": "stdout",
     "output_type": "stream",
     "text": [
      "Raw Text:\n",
      "Fast as [NAME] will carry me. Seriously uptown to downtown via Claiborne or broad isn’t that bad\n",
      "\n",
      "Tokenized Text:\n",
      "['[CLS]', 'fast', 'as', '[', 'name', ']', 'will', 'carry', 'me', '.', 'seriously', 'uptown', 'to', 'downtown', 'via', 'cl', '##ai', '##borne', 'or', 'broad', 'isn', '’', 't', 'that', 'bad', '[SEP]']\n",
      "\n",
      "Token Ids:\n",
      "[101, 3435, 2004, 1031, 2171, 1033, 2097, 4287, 2033, 1012, 5667, 28539, 2000, 5116, 3081, 18856, 4886, 19288, 2030, 5041, 3475, 1521, 1056, 2008, 2919, 102]\n"
     ]
    }
   ],
   "source": [
    "print(f'Raw Text:\\n{emotions_df[\"text\"].iloc[0]}\\n')\n",
    "print(f'Tokenized Text:\\n{token_dict.tokens(0)}\\n')\n",
    "print(f'Token Ids:\\n{token_dict[\"input_ids\"][0]}')"
   ]
  },
  {
   "cell_type": "markdown",
   "id": "ccc34269-7016-4b5d-8cc1-514279cdbe84",
   "metadata": {},
   "source": [
    "> We see that most of the sentences are maximum upto 52 tokens long. We'll use 60 as max-length"
   ]
  },
  {
   "cell_type": "code",
   "execution_count": 246,
   "id": "e4729429-db57-4f54-9693-71c4866f81c2",
   "metadata": {},
   "outputs": [
    {
     "data": {
      "text/plain": [
       "<AxesSubplot:>"
      ]
     },
     "execution_count": 246,
     "metadata": {},
     "output_type": "execute_result"
    },
    {
     "data": {
      "image/png": "[encoded data removed]",
      "text/plain": [
       "<Figure size 1080x432 with 1 Axes>"
      ]
     },
     "metadata": {
      "needs_background": "light"
     },
     "output_type": "display_data"
    }
   ],
   "source": [
    "pd.Series([len(tokens) for tokens in token_dict['input_ids']]).value_counts().plot(kind='bar', figsize=(15, 6))"
   ]
  },
  {
   "cell_type": "markdown",
   "id": "f4de086c-ada4-43d4-afb2-7067edfc4eca",
   "metadata": {},
   "source": [
    "## Build PyTorch Dataset"
   ]
  },
  {
   "cell_type": "code",
   "execution_count": 253,
   "id": "c6d24e96-c47f-460c-8903-97f86e43f9d2",
   "metadata": {},
   "outputs": [],
   "source": [
    "class EmotionsDataset(Dataset):\n",
    "    def __init__(self, df, tokenizer, config):\n",
    "        super().__init__()\n",
    "        self.tokenizer = tokenizer\n",
    "        self.config= config\n",
    "        self.df = df\n",
    "                \n",
    "    def __len__(self):\n",
    "        return len(self.df)\n",
    "    \n",
    "    def __getitem__(self, idx):\n",
    "        row = self.df.iloc[idx]\n",
    "        token_dict = self.tokenizer(row[config['text_col']], \n",
    "                                    max_length=config['max_len'], \n",
    "                                    padding='max_length',\n",
    "                                    truncation=True,\n",
    "                                    return_token_type_ids=False,\n",
    "                                    return_tensors=\"pt\",\n",
    "                                    add_special_tokens=True)\n",
    "        row_dict = {'input_ids':token_dict['input_ids'].flatten(),\n",
    "                    'attention_mask':token_dict['attention_mask'].flatten(),\n",
    "                    'labels':torch.tensor(row[config['target_col']])\n",
    "                   }\n",
    "        return row_dict"
   ]
  },
  {
   "cell_type": "code",
   "execution_count": 254,
   "id": "b0c6b72b-a505-470e-9018-1c426e5ee455",
   "metadata": {},
   "outputs": [
    {
     "data": {
      "text/plain": [
       "58011"
      ]
     },
     "execution_count": 254,
     "metadata": {},
     "output_type": "execute_result"
    }
   ],
   "source": [
    "# Quick test the dataset implementation\n",
    "tokenizer = ElectraTokenizerFast.from_pretrained(MODEL_NAME)\n",
    "config['max_len'] = 60\n",
    "config['text_col'] = 'text'\n",
    "config['target_col'] = 'label'\n",
    "ds = EmotionsDataset(emotions_df, tokenizer, config)\n",
    "len(ds)"
   ]
  },
  {
   "cell_type": "code",
   "execution_count": 255,
   "id": "789635b7-c7d7-459a-aefe-91a3b1381349",
   "metadata": {},
   "outputs": [
    {
     "data": {
      "text/plain": [
       "{'input_ids': tensor([  101,  3435,  2004,  1031,  2171,  1033,  2097,  4287,  2033,  1012,\n",
       "          5667, 28539,  2000,  5116,  3081, 18856,  4886, 19288,  2030,  5041,\n",
       "          3475,  1521,  1056,  2008,  2919,   102,     0,     0,     0,     0,\n",
       "             0,     0,     0,     0,     0,     0,     0,     0,     0,     0,\n",
       "             0,     0,     0,     0,     0,     0,     0,     0,     0,     0,\n",
       "             0,     0,     0,     0,     0,     0,     0,     0,     0,     0]),\n",
       " 'attention_mask': tensor([1, 1, 1, 1, 1, 1, 1, 1, 1, 1, 1, 1, 1, 1, 1, 1, 1, 1, 1, 1, 1, 1, 1, 1,\n",
       "         1, 1, 0, 0, 0, 0, 0, 0, 0, 0, 0, 0, 0, 0, 0, 0, 0, 0, 0, 0, 0, 0, 0, 0,\n",
       "         0, 0, 0, 0, 0, 0, 0, 0, 0, 0, 0, 0]),\n",
       " 'labels': tensor(4)}"
      ]
     },
     "execution_count": 255,
     "metadata": {},
     "output_type": "execute_result"
    }
   ],
   "source": [
    "# dataset returns a dict with tokens (with length 60) and associted label id\n",
    "ds[0]"
   ]
  },
  {
   "cell_type": "markdown",
   "id": "e4ac1502-c370-4b49-bfa0-76b289ee28e5",
   "metadata": {},
   "source": [
    "## Build PyTorch-Lightning DataModule"
   ]
  },
  {
   "cell_type": "code",
   "execution_count": 256,
   "id": "379c8320-b9cd-49fb-9996-eda73b2ce5e3",
   "metadata": {},
   "outputs": [],
   "source": [
    "class EmotionsDataModule(pl.LightningDataModule):\n",
    "    def __init__(self, data_path, tokenizer, config):\n",
    "        super().__init__()\n",
    "        self.data_path = data_path\n",
    "        self.tokenizer = tokenizer\n",
    "        self.config = config\n",
    "\n",
    "    # Helper method for pre-processing    \n",
    "    def __preprocess_data(self):\n",
    "        # read data in dataframes\n",
    "        dfs = []\n",
    "        for data_file in list(Path().glob(self.data_path + '/*.csv')):\n",
    "            dfs.append(pd.read_csv(data_file))\n",
    "        # concatenate dataframes\n",
    "        df = pd.concat(dfs)\n",
    "        # 10th cols till 37th are the emotion labels, 27 of them\n",
    "        all_labels = list(df.columns[9:])\n",
    "        # get majority label (column with largest value) for each 'id'\n",
    "        labels_sr = df.groupby('id').sum()[labels].idxmax(axis=1)\n",
    "        labels_df = pd.DataFrame(labels_sr, columns=['emotion'])\n",
    "        # create a target numeric column 'label' corresponding to the emotion index\n",
    "        labels_df['label'] = labels_df['emotion'].apply(lambda x: all_labels.index(x))\n",
    "        # extract the unique ids and associted text from data\n",
    "        df = df.groupby(['id', 'text']).median().reset_index()[['id', 'text']]\n",
    "        # setting id as index \n",
    "        df.set_index('id', inplace=True)\n",
    "        # now join text and lables to get our dataset \n",
    "        df = df.join(labels_df, how='left')\n",
    "        return df        \n",
    " \n",
    "\n",
    "    # setup method is called only once and its for tasks such as\n",
    "    # loading data from files into objects, pre-processing, formatting\n",
    "    # creating train, val, test split\n",
    "    def setup(self, stage=None):\n",
    "        # preprocess raw data from files \n",
    "        emotions_df = self.__preprocess_data()\n",
    "        # split data in train and test set\n",
    "        self.train_df, self.test_df = train_test_split(emotions_df, test_size=self.config['test_size'], shuffle=True)\n",
    "        # further split train data in train and val set\n",
    "        self.train_df, self.val_df = train_test_split(self.train_df, test_size=self.config['val_size'], shuffle=True)\n",
    "    \n",
    "    \n",
    "    def train_dataloader(self):\n",
    "        return DataLoader(EmotionsDataset(self.train_df, self.tokenizer, self.config),\n",
    "                          batch_size=self.config['batch_size'],\n",
    "                          num_workers=os.cpu_count(),\n",
    "                          shuffle=True)\n",
    "    \n",
    "    \n",
    "    def val_dataloader(self):\n",
    "        return DataLoader(EmotionsDataset(self.val_df, self.tokenizer, self.config),\n",
    "                          batch_size=self.config['batch_size'],\n",
    "                          num_workers=os.cpu_count(),\n",
    "                          shuffle=False)\n",
    "\n",
    "    \n",
    "    def test_dataloader(self):\n",
    "        return DataLoader(EmotionsDataset(self.test_df, self.tokenizer, self.config),\n",
    "                          batch_size=self.config['batch_size'],\n",
    "                          num_workers=os.cpu_count(),\n",
    "                          shuffle=False)"
   ]
  },
  {
   "cell_type": "code",
   "execution_count": 263,
   "id": "11c1daaa-6d3f-437a-9ebf-f38e052cb47e",
   "metadata": {},
   "outputs": [
    {
     "name": "stdout",
     "output_type": "stream",
     "text": [
      "torch.Size([32, 60]) torch.Size([32, 60]) torch.Size([32])\n",
      "{'input_ids': tensor([[  101,  2053, 15876,  ...,     0,     0,     0],\n",
      "        [  101,  1045,  2001,  ...,     0,     0,     0],\n",
      "        [  101,  2131,  2092,  ...,     0,     0,     0],\n",
      "        ...,\n",
      "        [  101,  1996,  2160,  ...,     0,     0,     0],\n",
      "        [  101,  2008,  1005,  ...,     0,     0,     0],\n",
      "        [  101,  2004,  1037,  ...,     0,     0,     0]]), 'attention_mask': tensor([[1, 1, 1,  ..., 0, 0, 0],\n",
      "        [1, 1, 1,  ..., 0, 0, 0],\n",
      "        [1, 1, 1,  ..., 0, 0, 0],\n",
      "        ...,\n",
      "        [1, 1, 1,  ..., 0, 0, 0],\n",
      "        [1, 1, 1,  ..., 0, 0, 0],\n",
      "        [1, 1, 1,  ..., 0, 0, 0]]), 'labels': tensor([ 2,  4,  5, 27, 27,  3, 17, 27, 15, 27, 15, 27, 20,  7,  3,  6, 10,  4,\n",
      "         4,  2, 18, 27, 18, 17, 27,  2, 18, 27,  0,  0, 27, 10])}\n",
      "\n",
      "torch.Size([32, 60]) torch.Size([32, 60]) torch.Size([32])\n",
      "{'input_ids': tensor([[ 101, 2748, 1010,  ...,    0,    0,    0],\n",
      "        [ 101, 9826, 1010,  ...,    0,    0,    0],\n",
      "        [ 101, 2987, 1005,  ...,    0,    0,    0],\n",
      "        ...,\n",
      "        [ 101, 2027, 2298,  ...,    0,    0,    0],\n",
      "        [ 101, 2009, 1005,  ...,    0,    0,    0],\n",
      "        [ 101, 3374, 2065,  ...,    0,    0,    0]]), 'attention_mask': tensor([[1, 1, 1,  ..., 0, 0, 0],\n",
      "        [1, 1, 1,  ..., 0, 0, 0],\n",
      "        [1, 1, 1,  ..., 0, 0, 0],\n",
      "        ...,\n",
      "        [1, 1, 1,  ..., 0, 0, 0],\n",
      "        [1, 1, 1,  ..., 0, 0, 0],\n",
      "        [1, 1, 1,  ..., 0, 0, 0]]), 'labels': tensor([27, 22,  4, 22, 27,  1, 12,  3, 27,  7, 17, 27,  1, 27, 27,  3, 13,  0,\n",
      "         3, 26,  4,  5, 27,  1, 25, 17, 10, 17,  1, 27,  3,  6])}\n",
      "\n",
      "torch.Size([32, 60]) torch.Size([32, 60]) torch.Size([32])\n",
      "{'input_ids': tensor([[  101, 22889,  8988,  ...,     0,     0,     0],\n",
      "        [  101,  2995,  1010,  ...,     0,     0,     0],\n",
      "        [  101,  2002,  4122,  ...,     0,     0,     0],\n",
      "        ...,\n",
      "        [  101,  6583, 11057,  ...,     0,     0,     0],\n",
      "        [  101, 26478,  8609,  ...,     0,     0,     0],\n",
      "        [  101,  3599,  1010,  ...,     0,     0,     0]]), 'attention_mask': tensor([[1, 1, 1,  ..., 0, 0, 0],\n",
      "        [1, 1, 1,  ..., 0, 0, 0],\n",
      "        [1, 1, 1,  ..., 0, 0, 0],\n",
      "        ...,\n",
      "        [1, 1, 1,  ..., 0, 0, 0],\n",
      "        [1, 1, 1,  ..., 0, 0, 0],\n",
      "        [1, 1, 1,  ..., 0, 0, 0]]), 'labels': tensor([ 9,  4, 27,  4, 27, 27,  4,  3, 27, 27, 10, 22,  6, 27, 11,  2, 27, 10,\n",
      "         0, 15, 27, 22, 24,  2, 12, 13, 22, 27,  3,  4, 17,  3])}\n",
      "\n"
     ]
    }
   ],
   "source": [
    "# Quick test datamodule implementation\n",
    "data_path = './data'\n",
    "tokenizer = ElectraTokenizerFast.from_pretrained(MODEL_NAME)\n",
    "config['max_len'] = 60\n",
    "config['text_col'] = 'text'\n",
    "config['target_col'] = 'label'\n",
    "config['val_size'] = 0.2\n",
    "config['test_size'] = 0.2\n",
    "config['batch_size'] = 32\n",
    "\n",
    "# Instantiate datamodule\n",
    "dm = EmotionsDataModule(data_path, tokenizer, config)\n",
    "dm.setup()\n",
    "train_dl = dm.train_dataloader()\n",
    "val_dl = dm.val_dataloader()\n",
    "test_dl = dm.test_dataloader()\n",
    "\n",
    "# fetch a batch from dataloaders\n",
    "batch = iter(train_dl).next()\n",
    "print(batch['input_ids'].shape, batch['attention_mask'].shape, batch['labels'].shape)\n",
    "print(batch)\n",
    "print()\n",
    "batch = iter(val_dl).next()\n",
    "print(batch['input_ids'].shape, batch['attention_mask'].shape, batch['labels'].shape)\n",
    "print(batch)\n",
    "print()\n",
    "batch = iter(test_dl).next()\n",
    "print(batch['input_ids'].shape, batch['attention_mask'].shape, batch['labels'].shape)\n",
    "print(batch)\n",
    "print()"
   ]
  },
  {
   "cell_type": "markdown",
   "id": "6a730555-6dd6-4c03-83c4-eda9deaf0865",
   "metadata": {},
   "source": [
    "## Build PyTorch-Lightning Classifier using Transformers"
   ]
  },
  {
   "cell_type": "code",
   "execution_count": null,
   "id": "85ea1f43-4adb-45c0-ac4b-81db83c3d61b",
   "metadata": {},
   "outputs": [],
   "source": [
    "class EmotionClassifier(pl.LightningDataModule):\n",
    "    def __init__(self, config):\n",
    "        self.config = config\n",
    "        self.model = ElectraForSequenceClassification.from_pretrained(config['model_name'], \n",
    "                                                                      problem_type='multi_label_classification')\n",
    "    \n",
    "    def forward(self, batch, batch_idx):\n",
    "        \n",
    "                \n",
    "                                                                             \n",
    "    def configure_optimizer:\n",
    "        pass"
   ]
  },
  {
   "cell_type": "code",
   "execution_count": null,
   "id": "75b3e057-cdf6-46c1-bcf0-5dbc9821f5b4",
   "metadata": {},
   "outputs": [],
   "source": [
    "# Quick test model implementation\n",
    "data_path = './data'\n",
    "tokenizer = ElectraTokenizerFast.from_pretrained(MODEL_NAME)\n",
    "config['max_len'] = 60\n",
    "config['text_col'] = 'text'\n",
    "config['target_col'] = 'label'\n",
    "config['val_size'] = 0.2\n",
    "config['test_size'] = 0.2\n",
    "config['batch_size'] = 32\n",
    "config['model_name'] = MODEL_NAME\n",
    "config['learning_rate'] = 1e-5\n",
    "config['optimizer'] = \n",
    "# Instantiate datamodule\n",
    "dm = EmotionsDataModule(data_path, tokenizer, config)\n",
    "dm.setup()\n",
    "# Instantiate a pre-trained model\n",
    "pre_trained_model = "
   ]
  },
  {
   "cell_type": "markdown",
   "id": "3b5c05cf-ba89-460e-b340-82232daf28af",
   "metadata": {},
   "source": [
    "## Finetune (Train) the transformer model"
   ]
  },
  {
   "cell_type": "code",
   "execution_count": null,
   "id": "34650a24-0af5-4a5c-ac2b-25bafeb4363b",
   "metadata": {},
   "outputs": [],
   "source": []
  },
  {
   "cell_type": "markdown",
   "id": "9d6311a2-6a9e-45e1-abcb-1e0df76e07cc",
   "metadata": {},
   "source": [
    "## Test/Evaluate the model"
   ]
  },
  {
   "cell_type": "code",
   "execution_count": 276,
   "id": "a61ec4b1-6d57-4007-b55c-588fc6558d17",
   "metadata": {},
   "outputs": [],
   "source": []
  },
  {
   "cell_type": "code",
   "execution_count": 286,
   "id": "c7e15e6e-96cd-432e-acae-a7f533b1c682",
   "metadata": {},
   "outputs": [],
   "source": []
  },
  {
   "cell_type": "code",
   "execution_count": 287,
   "id": "ed86e77a-95db-48c8-a712-b1ebf614e7f4",
   "metadata": {},
   "outputs": [
    {
     "name": "stdout",
     "output_type": "stream",
     "text": [
      "<class 'tuple'>\n",
      "(1, 2, 3, 4, 5)\n"
     ]
    }
   ],
   "source": []
  }
 ],
 "metadata": {
  "kernelspec": {
   "display_name": "Python 3",
   "language": "python",
   "name": "python3"
  },
  "language_info": {
   "codemirror_mode": {
    "name": "ipython",
    "version": 3
   },
   "file_extension": ".py",
   "mimetype": "text/x-python",
   "name": "python",
   "nbconvert_exporter": "python",
   "pygments_lexer": "ipython3",
   "version": "3.8.5"
  }
 },
 "nbformat": 4,
 "nbformat_minor": 5
}
